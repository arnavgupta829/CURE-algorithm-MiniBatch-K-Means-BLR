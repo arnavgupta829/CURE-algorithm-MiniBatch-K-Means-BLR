{
 "cells": [
  {
   "cell_type": "code",
   "execution_count": 1,
   "metadata": {},
   "outputs": [],
   "source": [
    "import numpy as np\n",
    "import pandas as pd\n",
    "import matplotlib.pyplot as plt"
   ]
  },
  {
   "cell_type": "code",
   "execution_count": 2,
   "metadata": {},
   "outputs": [],
   "source": [
    "data = pd.read_csv(r'/home/arnavgupta829/Desktop/ELL409/Assignment2/OldFaithful.csv')\n",
    "raw_ = []\n",
    "for i in data.columns:\n",
    "    raw_.append(data[i])\n",
    "raw = np.asarray(raw_)\n",
    "raw = raw.transpose()"
   ]
  },
  {
   "cell_type": "code",
   "execution_count": 3,
   "metadata": {
    "scrolled": true
   },
   "outputs": [],
   "source": [
    "class Kmeans:\n",
    "    \n",
    "    def __init__(self, k, iterations, dim, exmplsNos):\n",
    "        self.exmplsNos = exmplsNos\n",
    "        self.k  = k\n",
    "        self.iterations = iterations\n",
    "        self.dim = dim\n",
    "        self.centroids = []\n",
    "        self.labels = np.zeros(exmplsNos)\n",
    "        \n",
    "    def initialiseCentroids(self, datapoints):\n",
    "        np.random.shuffle(datapoints)\n",
    "        for i in range(0, self.k):\n",
    "            self.centroids.append(datapoints[i])\n",
    "    \n",
    "    def computeDistance(self, centroid, datapoint):\n",
    "        return np.linalg.norm(centroid-datapoint)\n",
    "    \n",
    "    def assignLabels(self, datapoints):\n",
    "        for i in range(0, self.exmplsNos):\n",
    "            distances = []\n",
    "            for j in range(0, self.k):\n",
    "                distances.append(self.computeDistance(self.centroids[j], datapoints[i]))\n",
    "            self.labels[i] = np.argmin(distances, axis = 0)\n",
    "        \n",
    "    def updateCentroids(self, datapoints):\n",
    "        for i in range(0, self.k):\n",
    "            sumData = 0\n",
    "            sumNos = 0\n",
    "            for j in range(0, self.exmplsNos):\n",
    "                if(self.labels[j] == i):\n",
    "                    sumData += datapoints[j]\n",
    "                    sumNos += 1\n",
    "            self.centroids[i] = sumData/sumNos\n",
    "    \n",
    "    def converge(self, datapoints):\n",
    "        self.initialiseCentroids(datapoints)\n",
    "        self.assignLabels(datapoints)\n",
    "        for i in range(0, self.iterations):\n",
    "            self.updateCentroids(datapoints)\n",
    "            self.assignLabels(datapoints)"
   ]
  },
  {
   "cell_type": "code",
   "execution_count": 7,
   "metadata": {},
   "outputs": [
    {
     "name": "stdout",
     "output_type": "stream",
     "text": [
      "[array([ 2.09433, 54.75   ]), array([ 4.29793023, 80.28488372])]\n"
     ]
    },
    {
     "data": {
      "text/plain": [
       "Text(0.5, 1.0, 'Visualization of clustered data')"
      ]
     },
     "execution_count": 7,
     "metadata": {},
     "output_type": "execute_result"
    },
    {
     "data": {
      "image/png": "[encoded data removed]",
      "text/plain": [
       "<Figure size 432x288 with 1 Axes>"
      ]
     },
     "metadata": {
      "needs_background": "light"
     },
     "output_type": "display_data"
    }
   ],
   "source": [
    "kmeans = Kmeans(2, 100, len(raw[0]), len(raw))\n",
    "kmeans.converge(raw)\n",
    "x0 = []\n",
    "y0 = []\n",
    "x1 = []\n",
    "y1 = []\n",
    "for i in range(0, kmeans.exmplsNos):\n",
    "    if(kmeans.labels[i] == 0):\n",
    "        x0.append(raw[i, 0])\n",
    "        y0.append(raw[i, 1])\n",
    "    else:\n",
    "        x1.append(raw[i, 0])\n",
    "        y1.append(raw[i, 1])\n",
    "print(kmeans.centroids)\n",
    "plt.scatter(x0, y0, c=\"blue\")\n",
    "plt.scatter(x1, y1, c=\"green\")\n",
    "plt.scatter(np.array(kmeans.centroids)[:, 0], np.array(kmeans.centroids)[:, 1], marker=\"*\", c=\"red\")\n",
    "plt.xlabel('Eruption time in mins')\n",
    "plt.ylabel('Waiting time for next eruption')\n",
    "plt.title('Visualization of clustered data', fontweight='bold')"
   ]
  }
 ],
 "metadata": {
  "kernelspec": {
   "display_name": "Python 3",
   "language": "python",
   "name": "python3"
  },
  "language_info": {
   "codemirror_mode": {
    "name": "ipython",
    "version": 3
   },
   "file_extension": ".py",
   "mimetype": "text/x-python",
   "name": "python",
   "nbconvert_exporter": "python",
   "pygments_lexer": "ipython3",
   "version": "3.7.4"
  }
 },
 "nbformat": 4,
 "nbformat_minor": 2
}
