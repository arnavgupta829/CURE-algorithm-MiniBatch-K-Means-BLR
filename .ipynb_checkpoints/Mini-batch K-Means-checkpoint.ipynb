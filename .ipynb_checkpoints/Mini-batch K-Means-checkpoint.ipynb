{
 "cells": [
  {
   "cell_type": "code",
   "execution_count": 1,
   "metadata": {},
   "outputs": [],
   "source": [
    "import numpy as np\n",
    "import pandas as pd\n",
    "import matplotlib.pyplot as plt"
   ]
  },
  {
   "cell_type": "code",
   "execution_count": 2,
   "metadata": {},
   "outputs": [],
   "source": [
    "data = pd.read_csv(r'/home/arnavgupta829/Desktop/ELL409/Assignment2/OldFaithful.csv')\n",
    "raw_ = []\n",
    "for i in data.columns:\n",
    "    raw_.append(data[i])\n",
    "raw = np.asarray(raw_)\n",
    "raw = raw.transpose()"
   ]
  },
  {
   "cell_type": "code",
   "execution_count": 3,
   "metadata": {},
   "outputs": [],
   "source": [
    "class Kmeans:\n",
    "    \n",
    "    def __init__(self, k, iterations, dim, nos, batchSize):\n",
    "        self.k = k\n",
    "        self.iterations = iterations\n",
    "        self.dim = dim\n",
    "        self.nos = nos\n",
    "        self.batchSize = batchSize\n",
    "        self.centroids = []\n",
    "        self.samplesForEachCluster = []\n",
    "        \n",
    "    def initialiseCentroids(self, datapoints):\n",
    "        np.random.shuffle(datapoints)\n",
    "        for i in range(0, self.k):\n",
    "            self.centroids.append(datapoints[i])\n",
    "            self.samplesForEachCluster.append(0)\n",
    "     \n",
    "    def computeDistance(self, centroid, datapoint):\n",
    "        return np.linalg.norm(centroid-datapoint)\n",
    "    \n",
    "    def assignLabels(self, datapoints):\n",
    "        for i in range(0, self.exmplsNos):\n",
    "            distances = []\n",
    "            for j in range(0, self.k):\n",
    "                distances.append(self.computeDistance(self.centroids[j], datapoints[i]))\n",
    "            self.labels[i] = np.argmin(distances, axis = 0)\n",
    "    \n",
    "    def loop(self, datapoints):\n",
    "        for i in range(0, self.iterations):\n",
    "            np.random.shuffle(datapoints)\n",
    "            batch = []\n",
    "            for j in range(0, self.batchSize):\n",
    "                batch.append(datapoints[j])\n",
    "            "
   ]
  }
 ],
 "metadata": {
  "kernelspec": {
   "display_name": "Python 3",
   "language": "python",
   "name": "python3"
  },
  "language_info": {
   "codemirror_mode": {
    "name": "ipython",
    "version": 3
   },
   "file_extension": ".py",
   "mimetype": "text/x-python",
   "name": "python",
   "nbconvert_exporter": "python",
   "pygments_lexer": "ipython3",
   "version": "3.7.4"
  }
 },
 "nbformat": 4,
 "nbformat_minor": 2
}
